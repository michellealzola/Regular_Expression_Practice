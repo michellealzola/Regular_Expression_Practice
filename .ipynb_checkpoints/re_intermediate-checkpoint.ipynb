{
 "cells": [
  {
   "cell_type": "code",
   "id": "initial_id",
   "metadata": {
    "collapsed": true,
    "ExecuteTime": {
     "end_time": "2025-09-29T19:04:56.409280Z",
     "start_time": "2025-09-29T19:04:56.406459Z"
    }
   },
   "source": "import re",
   "outputs": [],
   "execution_count": 8
  },
  {
   "metadata": {
    "ExecuteTime": {
     "end_time": "2025-09-29T19:04:56.423256Z",
     "start_time": "2025-09-29T19:04:56.421112Z"
    }
   },
   "cell_type": "code",
   "source": [
    "# Patterns\n",
    "IDENT   = r\"[A-Za-z_]\\w*\"                 # variable / function names\n",
    "INT     = r\"\\d+\"                           # integer literal\n",
    "STRING  = r'\"[^\"\\\\]*(?:\\\\.[^\"\\\\]*)*\"'      # simple double-quoted string with escapes\n",
    "ASSIGN  = r\"=\"\n",
    "OP      = r\"[+\\-*/]\"\n",
    "LPAREN  = r\"\\(\"\n",
    "RPAREN  = r\"\\)\"\n",
    "COMMA   = r\",\"\n",
    "COMMENT = r\"#.*\"\n",
    "WS      = r\"[ \\t]+\""
   ],
   "id": "759ef9bda4566ea",
   "outputs": [],
   "execution_count": 9
  },
  {
   "metadata": {
    "ExecuteTime": {
     "end_time": "2025-09-29T19:04:56.442264Z",
     "start_time": "2025-09-29T19:04:56.439462Z"
    }
   },
   "cell_type": "code",
   "source": [
    "# re.match (match — must start at the beginning (but can be a prefix))\n",
    "# Use when you expect a token right at the start (e.g., lexing the next token).\n",
    "expr = 'count = 10'\n",
    "matched = re.match(IDENT, expr)\n",
    "matched.group()"
   ],
   "id": "1ed565e92f915ed4",
   "outputs": [
    {
     "data": {
      "text/plain": [
       "'count'"
      ]
     },
     "execution_count": 10,
     "metadata": {},
     "output_type": "execute_result"
    }
   ],
   "execution_count": 10
  },
  {
   "metadata": {
    "ExecuteTime": {
     "end_time": "2025-09-29T19:04:56.472473Z",
     "start_time": "2025-09-29T19:04:56.468501Z"
    }
   },
   "cell_type": "code",
   "source": [
    "# re.fullmatch - must match the entire string\n",
    "# Great for validating a whole line is exactly one kind of statement.\n",
    "pattern_to_match = rf'{IDENT}\\s*{ASSIGN}\\s*{INT}'\n",
    "re.fullmatch(pattern_to_match, expr) is not None"
   ],
   "id": "7fe502cfff30c9cc",
   "outputs": [
    {
     "data": {
      "text/plain": [
       "True"
      ]
     },
     "execution_count": 11,
     "metadata": {},
     "output_type": "execute_result"
    }
   ],
   "execution_count": 11
  },
  {
   "metadata": {
    "ExecuteTime": {
     "end_time": "2025-09-29T19:04:56.502919Z",
     "start_time": "2025-09-29T19:04:56.500309Z"
    }
   },
   "cell_type": "code",
   "source": [
    "expr_wrong = 'count = 10;'\n",
    "re.fullmatch(pattern_to_match, expr_wrong) is not None"
   ],
   "id": "d406458d7139e950",
   "outputs": [
    {
     "data": {
      "text/plain": [
       "False"
      ]
     },
     "execution_count": 12,
     "metadata": {},
     "output_type": "execute_result"
    }
   ],
   "execution_count": 12
  },
  {
   "metadata": {
    "ExecuteTime": {
     "end_time": "2025-09-29T19:07:44.265390Z",
     "start_time": "2025-09-29T19:07:44.261503Z"
    }
   },
   "cell_type": "code",
   "source": [
    "# re.search — find the first occurrence anywhere\n",
    "# Use when the token may appear anywhere (e.g., scan a comment string for a number).\n",
    "expr_1 = 'result = 42 + x'\n",
    "re.search(INT, expr_1).group()"
   ],
   "id": "9eb2207f576d88b",
   "outputs": [
    {
     "data": {
      "text/plain": [
       "'42'"
      ]
     },
     "execution_count": 14,
     "metadata": {},
     "output_type": "execute_result"
    }
   ],
   "execution_count": 14
  },
  {
   "metadata": {},
   "cell_type": "code",
   "outputs": [],
   "execution_count": null,
   "source": [
    "# re.findall — return all matches as strings/tuples\n",
    "# If the pattern has no capturing groups, you get a list of strings:"
   ],
   "id": "ced2b39db9c64318"
  }
 ],
 "metadata": {
  "kernelspec": {
   "display_name": "Python 3",
   "language": "python",
   "name": "python3"
  },
  "language_info": {
   "codemirror_mode": {
    "name": "ipython",
    "version": 2
   },
   "file_extension": ".py",
   "mimetype": "text/x-python",
   "name": "python",
   "nbconvert_exporter": "python",
   "pygments_lexer": "ipython2",
   "version": "2.7.6"
  }
 },
 "nbformat": 4,
 "nbformat_minor": 5
}
