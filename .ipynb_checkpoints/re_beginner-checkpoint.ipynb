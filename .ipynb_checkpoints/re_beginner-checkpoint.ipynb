{
 "cells": [
  {
   "metadata": {},
   "cell_type": "markdown",
   "source": [
    "### `r\"\"` (Raw String in Python)\n",
    "- In Python, strings use escape characters like \\n (newline) or \\t (tab).\n",
    "- Regex uses a lot of backslashes (\\d, \\w, etc.).\n",
    "- To avoid Python treating them as special characters, we use raw strings by adding r before the quotes."
   ],
   "id": "ad6d173b47582362"
  },
  {
   "metadata": {},
   "cell_type": "markdown",
   "source": "Before we can use the Regular Expression, we must import re",
   "id": "9d3dc6b29e70f235"
  },
  {
   "metadata": {
    "ExecuteTime": {
     "end_time": "2025-09-28T20:13:45.610573Z",
     "start_time": "2025-09-28T20:13:45.607608Z"
    }
   },
   "cell_type": "code",
   "source": "import re",
   "id": "3c08b7ac689169c8",
   "outputs": [],
   "execution_count": 3
  },
  {
   "metadata": {},
   "cell_type": "code",
   "outputs": [],
   "execution_count": null,
   "source": "",
   "id": "9b7374fc228e6682"
  }
 ],
 "metadata": {
  "kernelspec": {
   "display_name": "Python 3",
   "language": "python",
   "name": "python3"
  },
  "language_info": {
   "codemirror_mode": {
    "name": "ipython",
    "version": 2
   },
   "file_extension": ".py",
   "mimetype": "text/x-python",
   "name": "python",
   "nbconvert_exporter": "python",
   "pygments_lexer": "ipython2",
   "version": "2.7.6"
  }
 },
 "nbformat": 4,
 "nbformat_minor": 5
}
