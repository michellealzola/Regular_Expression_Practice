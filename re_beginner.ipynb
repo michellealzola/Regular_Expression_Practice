{
 "cells": [
  {
   "metadata": {},
   "cell_type": "markdown",
   "source": [
    "### `r''` (Raw String in Python)\n",
    "- In Python, strings use escape characters like \\n (newline) or \\t (tab).\n",
    "- Regex uses a lot of backslashes (\\d, \\w, etc.).\n",
    "- To avoid Python treating them as special characters, we use raw strings by adding r before the quotes."
   ],
   "id": "ad6d173b47582362"
  },
  {
   "metadata": {},
   "cell_type": "markdown",
   "source": "Before we can use the Regular Expression, we must import re",
   "id": "9d3dc6b29e70f235"
  },
  {
   "metadata": {
    "ExecuteTime": {
     "end_time": "2025-09-28T20:13:45.610573Z",
     "start_time": "2025-09-28T20:13:45.607608Z"
    }
   },
   "cell_type": "code",
   "source": "import re",
   "id": "3c08b7ac689169c8",
   "outputs": [],
   "execution_count": 3
  },
  {
   "metadata": {},
   "cell_type": "markdown",
   "source": [
    "### `\\d` (Digit)\n",
    "- Means digit (0 - 9)"
   ],
   "id": "99295177bdee0d31"
  },
  {
   "metadata": {
    "ExecuteTime": {
     "end_time": "2025-09-28T20:19:35.629690Z",
     "start_time": "2025-09-28T20:19:35.623108Z"
    }
   },
   "cell_type": "code",
   "source": [
    "# using re.findall(pattern, string) --> scans the entire string and returns a list of all matches of the pattern\n",
    "pattern = r'\\d'\n",
    "my_string = 'The numbers representing \"I love you\" is 143'\n",
    "re.findall(pattern, my_string)"
   ],
   "id": "8fbd47065020441b",
   "outputs": [
    {
     "data": {
      "text/plain": [
       "['1', '4', '3']"
      ]
     },
     "execution_count": 5,
     "metadata": {},
     "output_type": "execute_result"
    }
   ],
   "execution_count": 5
  },
  {
   "metadata": {},
   "cell_type": "markdown",
   "source": [
    "### `\\w` (Word Character)\n",
    "- Word Character = letters(a-z,A-Z), digits(0,9), and underscore _."
   ],
   "id": "87639face86fd11e"
  },
  {
   "metadata": {
    "ExecuteTime": {
     "end_time": "2025-09-28T20:24:50.721113Z",
     "start_time": "2025-09-28T20:24:50.716086Z"
    }
   },
   "cell_type": "code",
   "source": [
    "pattern = r'\\w'\n",
    "my_string = 'Hello_456o_zen'\n",
    "re.findall(pattern, my_string)"
   ],
   "id": "48c7b5cd6ca8247b",
   "outputs": [
    {
     "data": {
      "text/plain": [
       "['H', 'e', 'l', 'l', 'o', '_', '4', '5', '6', 'o', '_', 'z', 'e', 'n']"
      ]
     },
     "execution_count": 6,
     "metadata": {},
     "output_type": "execute_result"
    }
   ],
   "execution_count": 6
  },
  {
   "metadata": {},
   "cell_type": "markdown",
   "source": [
    "### `[]` (Character Set)\n",
    "- Matches any one character inside the brackets."
   ],
   "id": "73242fd4f0a8d185"
  },
  {
   "metadata": {
    "ExecuteTime": {
     "end_time": "2025-09-28T20:28:14.946254Z",
     "start_time": "2025-09-28T20:28:14.941787Z"
    }
   },
   "cell_type": "code",
   "source": [
    "# to match a vowel\n",
    "pattern = r'[aeiou]'\n",
    "my_string = 'An apple a day, makes 7 apples a week.'\n",
    "re.findall(pattern, my_string)"
   ],
   "id": "d19131bae742db70",
   "outputs": [
    {
     "data": {
      "text/plain": [
       "['a', 'e', 'a', 'a', 'a', 'e', 'a', 'e', 'a', 'e', 'e']"
      ]
     },
     "execution_count": 7,
     "metadata": {},
     "output_type": "execute_result"
    }
   ],
   "execution_count": 7
  },
  {
   "metadata": {
    "ExecuteTime": {
     "end_time": "2025-09-28T20:30:15.300826Z",
     "start_time": "2025-09-28T20:30:15.294703Z"
    }
   },
   "cell_type": "code",
   "source": [
    "# match a digit\n",
    "pattern = r'[0-9]'\n",
    "my_string = 'I have 3 apples. I gave 1 to Anna. How much is left?'\n",
    "re.findall(pattern, my_string)"
   ],
   "id": "77a366641d3ec96d",
   "outputs": [
    {
     "data": {
      "text/plain": [
       "['3', '1']"
      ]
     },
     "execution_count": 8,
     "metadata": {},
     "output_type": "execute_result"
    }
   ],
   "execution_count": 8
  },
  {
   "metadata": {
    "ExecuteTime": {
     "end_time": "2025-09-28T20:31:43.557411Z",
     "start_time": "2025-09-28T20:31:43.553866Z"
    }
   },
   "cell_type": "code",
   "source": [
    "# not a digit [^0-9]\n",
    "pattern = r'[^0-9]'\n",
    "my_string = '123456W7890'\n",
    "re.findall(pattern, my_string)"
   ],
   "id": "63d101e225568da1",
   "outputs": [
    {
     "data": {
      "text/plain": [
       "['W']"
      ]
     },
     "execution_count": 9,
     "metadata": {},
     "output_type": "execute_result"
    }
   ],
   "execution_count": 9
  },
  {
   "metadata": {},
   "cell_type": "markdown",
   "source": [
    "### `{}` (Quantifier - how many times)\n",
    "- Tells regex how many times an item should appear\n",
    "- {n} - exactly n times\n",
    "- {n,} - at least n times\n",
    "- {n,m} - between n and m times"
   ],
   "id": "f7ac15b77c5e0f1"
  },
  {
   "metadata": {
    "ExecuteTime": {
     "end_time": "2025-09-28T20:44:04.037591Z",
     "start_time": "2025-09-28T20:44:04.030697Z"
    }
   },
   "cell_type": "code",
   "source": [
    "pattern = r'\\d{3}'\n",
    "my_string = 'My phone number is 4035551234.'\n",
    "re.findall(pattern, my_string)"
   ],
   "id": "dd9f8880e9d1e524",
   "outputs": [
    {
     "data": {
      "text/plain": [
       "['403', '555', '123']"
      ]
     },
     "execution_count": 10,
     "metadata": {},
     "output_type": "execute_result"
    }
   ],
   "execution_count": 10
  },
  {
   "metadata": {},
   "cell_type": "markdown",
   "source": [
    "### `\\s` → whitespace (space, tab, newline)\n",
    "- Matches any kind of blank space."
   ],
   "id": "121b8b6664df27a1"
  },
  {
   "metadata": {
    "ExecuteTime": {
     "end_time": "2025-09-28T20:48:00.265430Z",
     "start_time": "2025-09-28T20:48:00.261243Z"
    }
   },
   "cell_type": "code",
   "source": [
    "pattern = r'\\s'\n",
    "my_string = 'Hello   World\\nof Python!'\n",
    "re.findall(pattern, my_string)"
   ],
   "id": "3cd3e27a3f9664ed",
   "outputs": [
    {
     "data": {
      "text/plain": [
       "[' ', ' ', ' ', '\\n', ' ']"
      ]
     },
     "execution_count": 11,
     "metadata": {},
     "output_type": "execute_result"
    }
   ],
   "execution_count": 11
  },
  {
   "metadata": {},
   "cell_type": "markdown",
   "source": [
    "### `.` → any character except newline\n",
    "- Matches any single character."
   ],
   "id": "70af89949ea0346d"
  },
  {
   "metadata": {
    "ExecuteTime": {
     "end_time": "2025-09-28T20:50:08.990804Z",
     "start_time": "2025-09-28T20:50:08.981300Z"
    }
   },
   "cell_type": "code",
   "source": [
    "pattern = r'.'\n",
    "my_string = 'cat, dog'\n",
    "re.findall(pattern, my_string)"
   ],
   "id": "d90bdd6770db5cd2",
   "outputs": [
    {
     "data": {
      "text/plain": [
       "['c', 'a', 't', ',', ' ', 'd', 'o', 'g']"
      ]
     },
     "execution_count": 12,
     "metadata": {},
     "output_type": "execute_result"
    }
   ],
   "execution_count": 12
  },
  {
   "metadata": {},
   "cell_type": "code",
   "outputs": [],
   "execution_count": null,
   "source": "",
   "id": "f90e1f59021534c7"
  }
 ],
 "metadata": {
  "kernelspec": {
   "display_name": "Python 3",
   "language": "python",
   "name": "python3"
  },
  "language_info": {
   "codemirror_mode": {
    "name": "ipython",
    "version": 2
   },
   "file_extension": ".py",
   "mimetype": "text/x-python",
   "name": "python",
   "nbconvert_exporter": "python",
   "pygments_lexer": "ipython2",
   "version": "2.7.6"
  }
 },
 "nbformat": 4,
 "nbformat_minor": 5
}
