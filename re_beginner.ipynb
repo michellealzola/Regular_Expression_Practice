{
 "cells": [
  {
   "metadata": {},
   "cell_type": "markdown",
   "source": [
    "### `r''` (Raw String in Python)\n",
    "- In Python, strings use escape characters like \\n (newline) or \\t (tab).\n",
    "- Regex uses a lot of backslashes (\\d, \\w, etc.).\n",
    "- To avoid Python treating them as special characters, we use raw strings by adding r before the quotes."
   ],
   "id": "ad6d173b47582362"
  },
  {
   "metadata": {},
   "cell_type": "markdown",
   "source": "Before we can use the Regular Expression, we must import re",
   "id": "9d3dc6b29e70f235"
  },
  {
   "metadata": {
    "ExecuteTime": {
     "end_time": "2025-09-29T19:48:58.167319Z",
     "start_time": "2025-09-29T19:48:58.165312Z"
    }
   },
   "cell_type": "code",
   "source": "import re",
   "id": "3c08b7ac689169c8",
   "outputs": [],
   "execution_count": 18
  },
  {
   "metadata": {},
   "cell_type": "markdown",
   "source": [
    "### `\\d` (Digit)\n",
    "- Means digit (0 - 9)"
   ],
   "id": "99295177bdee0d31"
  },
  {
   "metadata": {
    "ExecuteTime": {
     "end_time": "2025-09-29T19:48:58.182598Z",
     "start_time": "2025-09-29T19:48:58.179808Z"
    }
   },
   "cell_type": "code",
   "source": [
    "# using re.findall(pattern, string) --> scans the entire string and returns a list of all matches of the pattern\n",
    "pattern = r'\\d'\n",
    "my_string = 'The numbers representing \"I love you\" is 143'\n",
    "re.findall(pattern, my_string)"
   ],
   "id": "8fbd47065020441b",
   "outputs": [
    {
     "data": {
      "text/plain": [
       "['1', '4', '3']"
      ]
     },
     "execution_count": 19,
     "metadata": {},
     "output_type": "execute_result"
    }
   ],
   "execution_count": 19
  },
  {
   "metadata": {},
   "cell_type": "markdown",
   "source": [
    "### `\\w` (Word Character)\n",
    "- Word Character = letters(a-z,A-Z), digits(0,9), and underscore _."
   ],
   "id": "87639face86fd11e"
  },
  {
   "metadata": {
    "ExecuteTime": {
     "end_time": "2025-09-29T19:48:58.226559Z",
     "start_time": "2025-09-29T19:48:58.220939Z"
    }
   },
   "cell_type": "code",
   "source": [
    "pattern = r'\\w'\n",
    "my_string = 'Hello_456o_zen'\n",
    "re.findall(pattern, my_string)"
   ],
   "id": "48c7b5cd6ca8247b",
   "outputs": [
    {
     "data": {
      "text/plain": [
       "['H', 'e', 'l', 'l', 'o', '_', '4', '5', '6', 'o', '_', 'z', 'e', 'n']"
      ]
     },
     "execution_count": 20,
     "metadata": {},
     "output_type": "execute_result"
    }
   ],
   "execution_count": 20
  },
  {
   "metadata": {},
   "cell_type": "markdown",
   "source": [
    "### `[]` (Character Set)\n",
    "- Matches any one character inside the brackets."
   ],
   "id": "73242fd4f0a8d185"
  },
  {
   "metadata": {
    "ExecuteTime": {
     "end_time": "2025-09-29T19:48:58.261727Z",
     "start_time": "2025-09-29T19:48:58.257758Z"
    }
   },
   "cell_type": "code",
   "source": [
    "# to match a vowel\n",
    "pattern = r'[aeiou]'\n",
    "my_string = 'An apple a day, makes 7 apples a week.'\n",
    "re.findall(pattern, my_string)"
   ],
   "id": "d19131bae742db70",
   "outputs": [
    {
     "data": {
      "text/plain": [
       "['a', 'e', 'a', 'a', 'a', 'e', 'a', 'e', 'a', 'e', 'e']"
      ]
     },
     "execution_count": 21,
     "metadata": {},
     "output_type": "execute_result"
    }
   ],
   "execution_count": 21
  },
  {
   "metadata": {
    "ExecuteTime": {
     "end_time": "2025-09-29T19:48:58.292246Z",
     "start_time": "2025-09-29T19:48:58.289150Z"
    }
   },
   "cell_type": "code",
   "source": [
    "# match a digit\n",
    "pattern = r'[0-9]'\n",
    "my_string = 'I have 3 apples. I gave 1 to Anna. How much is left?'\n",
    "re.findall(pattern, my_string)"
   ],
   "id": "77a366641d3ec96d",
   "outputs": [
    {
     "data": {
      "text/plain": [
       "['3', '1']"
      ]
     },
     "execution_count": 22,
     "metadata": {},
     "output_type": "execute_result"
    }
   ],
   "execution_count": 22
  },
  {
   "metadata": {
    "ExecuteTime": {
     "end_time": "2025-09-29T19:48:58.325975Z",
     "start_time": "2025-09-29T19:48:58.323540Z"
    }
   },
   "cell_type": "code",
   "source": [
    "# not a digit [^0-9]\n",
    "pattern = r'[^0-9]'\n",
    "my_string = '123456W7890'\n",
    "re.findall(pattern, my_string)"
   ],
   "id": "63d101e225568da1",
   "outputs": [
    {
     "data": {
      "text/plain": [
       "['W']"
      ]
     },
     "execution_count": 23,
     "metadata": {},
     "output_type": "execute_result"
    }
   ],
   "execution_count": 23
  },
  {
   "metadata": {},
   "cell_type": "markdown",
   "source": [
    "### `{}` (Quantifier - how many times)\n",
    "- Tells regex how many times an item should appear\n",
    "- {n} - exactly n times\n",
    "- {n,} - at least n times\n",
    "- {n,m} - between n and m times"
   ],
   "id": "f7ac15b77c5e0f1"
  },
  {
   "metadata": {
    "ExecuteTime": {
     "end_time": "2025-09-29T19:48:58.354910Z",
     "start_time": "2025-09-29T19:48:58.351759Z"
    }
   },
   "cell_type": "code",
   "source": [
    "pattern = r'\\d{3}'\n",
    "my_string = 'My phone number is 4035551234.'\n",
    "re.findall(pattern, my_string)"
   ],
   "id": "dd9f8880e9d1e524",
   "outputs": [
    {
     "data": {
      "text/plain": [
       "['403', '555', '123']"
      ]
     },
     "execution_count": 24,
     "metadata": {},
     "output_type": "execute_result"
    }
   ],
   "execution_count": 24
  },
  {
   "metadata": {},
   "cell_type": "markdown",
   "source": [
    "### `\\s` → whitespace (space, tab, newline)\n",
    "- Matches any kind of blank space."
   ],
   "id": "121b8b6664df27a1"
  },
  {
   "metadata": {
    "ExecuteTime": {
     "end_time": "2025-09-29T19:48:58.401061Z",
     "start_time": "2025-09-29T19:48:58.397657Z"
    }
   },
   "cell_type": "code",
   "source": [
    "pattern = r'\\s'\n",
    "my_string = 'Hello   World\\nof Python!'\n",
    "re.findall(pattern, my_string)"
   ],
   "id": "3cd3e27a3f9664ed",
   "outputs": [
    {
     "data": {
      "text/plain": [
       "[' ', ' ', ' ', '\\n', ' ']"
      ]
     },
     "execution_count": 25,
     "metadata": {},
     "output_type": "execute_result"
    }
   ],
   "execution_count": 25
  },
  {
   "metadata": {},
   "cell_type": "markdown",
   "source": [
    "### `.` → any character except newline\n",
    "- Matches any single character."
   ],
   "id": "70af89949ea0346d"
  },
  {
   "metadata": {
    "ExecuteTime": {
     "end_time": "2025-09-29T19:48:58.430453Z",
     "start_time": "2025-09-29T19:48:58.426519Z"
    }
   },
   "cell_type": "code",
   "source": [
    "pattern = r'.'\n",
    "my_string = 'cat, dog'\n",
    "re.findall(pattern, my_string)"
   ],
   "id": "d90bdd6770db5cd2",
   "outputs": [
    {
     "data": {
      "text/plain": [
       "['c', 'a', 't', ',', ' ', 'd', 'o', 'g']"
      ]
     },
     "execution_count": 26,
     "metadata": {},
     "output_type": "execute_result"
    }
   ],
   "execution_count": 26
  },
  {
   "metadata": {},
   "cell_type": "markdown",
   "source": [
    "### `+` → 1 or more times\n",
    "- Means the pattern must appear at least once."
   ],
   "id": "a5c7a3ba32de66c"
  },
  {
   "metadata": {
    "ExecuteTime": {
     "end_time": "2025-09-29T19:48:58.459055Z",
     "start_time": "2025-09-29T19:48:58.456483Z"
    }
   },
   "cell_type": "code",
   "source": [
    "pattern = r'o+'\n",
    "my_string = 'Hellllloooo Woorld, yahoo!'\n",
    "re.findall(pattern, my_string)"
   ],
   "id": "1fe5b2c4d3c48212",
   "outputs": [
    {
     "data": {
      "text/plain": [
       "['oooo', 'oo', 'oo']"
      ]
     },
     "execution_count": 27,
     "metadata": {},
     "output_type": "execute_result"
    }
   ],
   "execution_count": 27
  },
  {
   "metadata": {},
   "cell_type": "markdown",
   "source": [
    "### `*` → 0 or more times\n",
    "- Means the pattern may appear any number of times, even zero."
   ],
   "id": "1f25e912081b9ade"
  },
  {
   "metadata": {
    "ExecuteTime": {
     "end_time": "2025-09-29T19:48:58.492803Z",
     "start_time": "2025-09-29T19:48:58.488496Z"
    }
   },
   "cell_type": "code",
   "source": [
    "pattern = r'lo*'\n",
    "re.findall(pattern, my_string)"
   ],
   "id": "8de7abf42711a5bd",
   "outputs": [
    {
     "data": {
      "text/plain": [
       "['l', 'l', 'l', 'l', 'loooo', 'l']"
      ]
     },
     "execution_count": 28,
     "metadata": {},
     "output_type": "execute_result"
    }
   ],
   "execution_count": 28
  },
  {
   "metadata": {},
   "cell_type": "markdown",
   "source": [
    "### `?` → 0 or 1 time (optional)\n",
    "- Means the character or group is optional."
   ],
   "id": "30479afc228d2bd"
  },
  {
   "metadata": {
    "ExecuteTime": {
     "end_time": "2025-09-29T19:48:58.525677Z",
     "start_time": "2025-09-29T19:48:58.521741Z"
    }
   },
   "cell_type": "code",
   "source": [
    "pattern = r'colou?r'\n",
    "my_string = 'My favorite color is blue. Her favorite colour is green.'\n",
    "re.findall(pattern, my_string)"
   ],
   "id": "926073781fb3ed7a",
   "outputs": [
    {
     "data": {
      "text/plain": [
       "['color', 'colour']"
      ]
     },
     "execution_count": 29,
     "metadata": {},
     "output_type": "execute_result"
    }
   ],
   "execution_count": 29
  },
  {
   "metadata": {},
   "cell_type": "markdown",
   "source": [
    "### `\\b` = word boundary\n",
    "\n",
    "It matches a position (like ^ for start of line or $ for end of line).\n",
    "\n",
    "A “word boundary” is the position between:\n",
    "\n",
    "a “word character” ([A-Za-z0-9_]) and\n",
    "\n",
    "a “non-word character” (like space, punctuation, or start/end of string).\n",
    "\n",
    "So `\\b` does not consume any characters — it just asserts that the spot is a word edge."
   ],
   "id": "3d89641a07ee4c80"
  },
  {
   "metadata": {
    "ExecuteTime": {
     "end_time": "2025-09-29T19:48:58.558288Z",
     "start_time": "2025-09-29T19:48:58.555287Z"
    }
   },
   "cell_type": "code",
   "source": [
    "text = \"foo foobar bar_123 bar-123\"\n",
    "\n",
    "# Match 'foo' only as a whole word\n",
    "print(re.findall(r\"\\bfoo\\b\", text))"
   ],
   "id": "228cadf0e0557c1f",
   "outputs": [
    {
     "name": "stdout",
     "output_type": "stream",
     "text": [
      "['foo']\n"
     ]
    }
   ],
   "execution_count": 30
  },
  {
   "metadata": {
    "ExecuteTime": {
     "end_time": "2025-09-29T19:48:58.591347Z",
     "start_time": "2025-09-29T19:48:58.588680Z"
    }
   },
   "cell_type": "code",
   "source": [
    "# Without \\b, you also match 'foo' inside 'foobar'\n",
    "print(re.findall(r\"foo\", text))"
   ],
   "id": "94c7530623366128",
   "outputs": [
    {
     "name": "stdout",
     "output_type": "stream",
     "text": [
      "['foo', 'foo']\n"
     ]
    }
   ],
   "execution_count": 31
  },
  {
   "metadata": {
    "ExecuteTime": {
     "end_time": "2025-09-29T19:49:21.692105Z",
     "start_time": "2025-09-29T19:49:21.686364Z"
    }
   },
   "cell_type": "code",
   "source": [
    "# Match words ending with digits\n",
    "print(re.findall(r\"\\b\\w+\\d+\\b\", text))"
   ],
   "id": "b7550d9bfa095452",
   "outputs": [
    {
     "name": "stdout",
     "output_type": "stream",
     "text": [
      "['bar_123', '123']\n"
     ]
    }
   ],
   "execution_count": 35
  },
  {
   "metadata": {},
   "cell_type": "markdown",
   "source": [
    "## Mini Expression Parser\n",
    "---\n",
    "### Rule 1: Variable names\n",
    "- Variable must contain only letters or underscore (no digits, no special chars).\n",
    "- On the left side, exactly one variable.\n",
    "- On the right side, exactly two variables with a + between them.\n",
    "\n",
    "Pattern: `^[A-Aa-z_]+$`\n",
    "1. `^`\n",
    "- Means start of the string.\n",
    "- Makes sure the match begins at the very beginning.\n",
    "\n",
    "2. `[A-Za-z_]`\n",
    "\n",
    "- A character set.\n",
    "- Matches one character only, but that character must be:\n",
    "- A-Z → uppercase letters\n",
    "- a-z → lowercase letters\n",
    "- _ → underscore\n",
    "- So [A-Za-z_] means: “one letter or underscore.”\n",
    "\n",
    "3. `+`\n",
    "- A quantifier: one or more times.\n",
    "- So [A-Za-z_]+ means: “one or more letters/underscores.”\n",
    "\n",
    "Examples:\n",
    "\n",
    "- \"x\" (allowed)\n",
    "- \"variableName\" (allowed)\n",
    "- \"_\" (allowed)\n",
    "- \"x1\" (NOT ALLOWED because digit 1 is not allowed)\n",
    "\n",
    "4. `$`\n",
    "- Means end of the string.\n",
    "- Ensures that the match stops at the very end, so no extra characters allowed.\n",
    "\n",
    "Example:\n",
    "\n",
    "`re.fullmatch(r\"[A-Za-z_]+\", \"hello\")`  # match\n",
    "\n",
    "`re.fullmatch(r\"[A-Za-z_]+\", \"hello1\")` # no match\n",
    "\n",
    "### Rule 2: Assignment operator (=)\n",
    "- There must be exactly one equal sign.\n",
    "\n",
    "Pattern: `=`\n",
    "\n",
    "### Rule 3: Expression (right-hand side, only + allowed)\n",
    "- Must be `variable + variable`.\n",
    "\n",
    "Examples:\n",
    "\n",
    "`\"x+b\"` → valid\n",
    "\n",
    "`\"x-b\"` → invalid (- sign not allowed)\n",
    "\n",
    "`\"x+1\"` → invalid (variable + variable only)\n",
    "\n",
    "\n",
    "Pattern: `^[A-Za-z_]+\\s*\\+\\s*[A-Za-z_]+$`\n",
    "\n",
    "1. The `\\s*`\n",
    "\n",
    "- `\\s` = any whitespace character (space, tab, newline).\n",
    "\n",
    "- `*` = zero or more times.\n",
    "\n",
    "So `\\s*` means:“allow any number of spaces (including none).”\n",
    "\n",
    "Examples of `\\s*`:\n",
    "\n",
    "`print(bool(re.match(r\"x\\s*=\\s*y\", \"x=y\")))`     # True (no spaces)\n",
    "\n",
    "`print(bool(re.match(r\"x\\s*=\\s*y\", \"x = y\")))`   # True (one space)\n",
    "\n",
    "`print(bool(re.match(r\"x\\s*=\\s*y\", \"x     =y\")))` # True (many spaces)\n",
    "\n",
    "2. `+` = one or more times\n",
    "\n",
    "- So this matches a variable name like x, abc, _var\n",
    "\n",
    "3. `\\+`\n",
    "- Here the + is escaped with a backslash → `\\+`\n",
    "- Means literal plus sign (+) instead of the regex quantifier.\n",
    "- Ensures the expression contains a plus operator.\n",
    "\n",
    "### Rule 4: Termination by semicolon\n",
    "- Must end with `;`\n",
    "\n",
    "Pattern: `;$`\n",
    "\n",
    "### PUTTING IT ALL TOGETHER\n",
    "- Full validation regex: `^([A-Za-z_]+)\\s*=\\s*([A-Za-z_]+)\\s*\\+\\s*([A-Za-z_]+);$`"
   ],
   "id": "3db75a365db494f9"
  },
  {
   "metadata": {
    "ExecuteTime": {
     "end_time": "2025-09-29T19:48:58.628963Z",
     "start_time": "2025-09-29T19:48:58.626506Z"
    }
   },
   "cell_type": "code",
   "source": [
    "rules = {\n",
    "    \"variable\": r\"^[A-Za-z_]+$\",\n",
    "    \"assignment\": r\"=\",\n",
    "    \"expression\": r\"^[A-Za-z_]+\\s*\\+\\s*[A-Za-z_]+$\",\n",
    "    \"termination\": r\";$\",\n",
    "    \"full\": r\"^([A-Za-z_]+)\\s*=\\s*([A-Za-z_]+)\\s*\\+\\s*([A-Za-z_]+);$\"\n",
    "}"
   ],
   "id": "b42f00e1caaf0dbd",
   "outputs": [],
   "execution_count": 32
  },
  {
   "metadata": {
    "ExecuteTime": {
     "end_time": "2025-09-29T19:48:58.644749Z",
     "start_time": "2025-09-29T19:48:58.642512Z"
    }
   },
   "cell_type": "code",
   "source": [
    "tests = [\n",
    "    \"y = x + b;\",\n",
    "    \"y = x - b;\",\n",
    "    \"1y = x + b;\",\n",
    "    \"y = x + 1;\",\n",
    "    \"y = x + b\"\n",
    "]"
   ],
   "id": "52d0bc59a980ba4b",
   "outputs": [],
   "execution_count": 33
  },
  {
   "metadata": {
    "ExecuteTime": {
     "end_time": "2025-09-29T19:48:58.660553Z",
     "start_time": "2025-09-29T19:48:58.656853Z"
    }
   },
   "cell_type": "code",
   "source": [
    "for test in tests:\n",
    "    if re.fullmatch(rules[\"full\"], test):\n",
    "        print(f\"{test} is a valid expression.\")\n",
    "    else:\n",
    "        if not re.match(rules[\"variable\"], test.split(\"=\")[0].strip()):\n",
    "            print(f\"{test.split('=')[0]} is not a valid variable name.\")\n",
    "        elif rules[\"assignment\"] not in test:\n",
    "            print(f\"{test} does not include an assignment operator (=).\")\n",
    "        elif not re.search(r\"\\s*=\\s*(.+)\", test) or not re.search(rules[\"expression\"], test.split(\"=\")[1].strip(\"; \")):\n",
    "            # .+ means any character, at least once\n",
    "            # \\s*=\\s*(.+) = “Skip optional spaces, match an equal sign, skip optional spaces again,\n",
    "            # then capture the rest of the expression.”\n",
    "            print(f\"{test}  Invalid Expression\")\n",
    "        elif not test.endswith(\";\"):\n",
    "            print(f\"{test}  Not properly terminated\")\n",
    "        else:\n",
    "            print(f\"{test}  Unknown error\")"
   ],
   "id": "9d0111b1546cd038",
   "outputs": [
    {
     "name": "stdout",
     "output_type": "stream",
     "text": [
      "y = x + b; is a valid expression.\n",
      "y = x - b;  Invalid Expression\n",
      "1y  is not a valid variable name.\n",
      "y = x + 1;  Invalid Expression\n",
      "y = x + b  Not properly terminated\n"
     ]
    }
   ],
   "execution_count": 34
  },
  {
   "metadata": {
    "ExecuteTime": {
     "end_time": "2025-09-29T19:48:58.671807Z",
     "start_time": "2025-09-29T19:48:58.670480Z"
    }
   },
   "cell_type": "code",
   "source": "",
   "id": "6b2968917a6ac050",
   "outputs": [],
   "execution_count": null
  }
 ],
 "metadata": {
  "kernelspec": {
   "display_name": "Python 3",
   "language": "python",
   "name": "python3"
  },
  "language_info": {
   "codemirror_mode": {
    "name": "ipython",
    "version": 2
   },
   "file_extension": ".py",
   "mimetype": "text/x-python",
   "name": "python",
   "nbconvert_exporter": "python",
   "pygments_lexer": "ipython2",
   "version": "2.7.6"
  }
 },
 "nbformat": 4,
 "nbformat_minor": 5
}
