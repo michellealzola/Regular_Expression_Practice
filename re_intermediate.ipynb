{
 "cells": [
  {
   "cell_type": "code",
   "id": "initial_id",
   "metadata": {
    "collapsed": true,
    "ExecuteTime": {
     "end_time": "2025-09-29T19:29:26.432157Z",
     "start_time": "2025-09-29T19:29:26.429365Z"
    }
   },
   "source": "import re",
   "outputs": [],
   "execution_count": 61
  },
  {
   "metadata": {
    "ExecuteTime": {
     "end_time": "2025-09-29T19:29:26.445124Z",
     "start_time": "2025-09-29T19:29:26.443350Z"
    }
   },
   "cell_type": "code",
   "source": [
    "# Patterns\n",
    "IDENT   = r\"[A-Za-z_]\\w*\"                 # variable / function names\n",
    "INT     = r\"\\d+\"                           # integer literal\n",
    "STRING  = r'\"[^\"\\\\]*(?:\\\\.[^\"\\\\]*)*\"'      # simple double-quoted string with escapes\n",
    "ASSIGN  = r\"=\"\n",
    "OP      = r\"[+\\-*/]\"\n",
    "LPAREN  = r\"\\(\"\n",
    "RPAREN  = r\"\\)\"\n",
    "COMMA   = r\",\"\n",
    "COMMENT = r\"#.*\"\n",
    "WS      = r\"[ \\t]+\""
   ],
   "id": "759ef9bda4566ea",
   "outputs": [],
   "execution_count": 62
  },
  {
   "metadata": {
    "ExecuteTime": {
     "end_time": "2025-09-29T19:29:26.460474Z",
     "start_time": "2025-09-29T19:29:26.457594Z"
    }
   },
   "cell_type": "code",
   "source": [
    "# re.match (match — must start at the beginning (but can be a prefix))\n",
    "# Use when you expect a token right at the start (e.g., lexing the next token).\n",
    "expr = 'count = 10'\n",
    "matched = re.match(IDENT, expr)\n",
    "matched.group()"
   ],
   "id": "1ed565e92f915ed4",
   "outputs": [
    {
     "data": {
      "text/plain": [
       "'count'"
      ]
     },
     "execution_count": 63,
     "metadata": {},
     "output_type": "execute_result"
    }
   ],
   "execution_count": 63
  },
  {
   "metadata": {
    "ExecuteTime": {
     "end_time": "2025-09-29T19:29:26.490884Z",
     "start_time": "2025-09-29T19:29:26.488045Z"
    }
   },
   "cell_type": "code",
   "source": [
    "# re.fullmatch - must match the entire string\n",
    "# Great for validating a whole line is exactly one kind of statement.\n",
    "pattern_to_match = rf'{IDENT}\\s*{ASSIGN}\\s*{INT}'\n",
    "re.fullmatch(pattern_to_match, expr) is not None"
   ],
   "id": "7fe502cfff30c9cc",
   "outputs": [
    {
     "data": {
      "text/plain": [
       "True"
      ]
     },
     "execution_count": 64,
     "metadata": {},
     "output_type": "execute_result"
    }
   ],
   "execution_count": 64
  },
  {
   "metadata": {
    "ExecuteTime": {
     "end_time": "2025-09-29T19:29:26.513787Z",
     "start_time": "2025-09-29T19:29:26.511033Z"
    }
   },
   "cell_type": "code",
   "source": [
    "expr_wrong = 'count = 10;'\n",
    "re.fullmatch(pattern_to_match, expr_wrong) is not None"
   ],
   "id": "d406458d7139e950",
   "outputs": [
    {
     "data": {
      "text/plain": [
       "False"
      ]
     },
     "execution_count": 65,
     "metadata": {},
     "output_type": "execute_result"
    }
   ],
   "execution_count": 65
  },
  {
   "metadata": {
    "ExecuteTime": {
     "end_time": "2025-09-29T19:29:26.542012Z",
     "start_time": "2025-09-29T19:29:26.538844Z"
    }
   },
   "cell_type": "code",
   "source": [
    "# re.search — find the first occurrence anywhere\n",
    "# Use when the token may appear anywhere (e.g., scan a comment string for a number).\n",
    "expr_1 = 'result = 42 + x'\n",
    "re.search(INT, expr_1).group()"
   ],
   "id": "9eb2207f576d88b",
   "outputs": [
    {
     "data": {
      "text/plain": [
       "'42'"
      ]
     },
     "execution_count": 66,
     "metadata": {},
     "output_type": "execute_result"
    }
   ],
   "execution_count": 66
  },
  {
   "metadata": {
    "ExecuteTime": {
     "end_time": "2025-09-29T19:29:26.562210Z",
     "start_time": "2025-09-29T19:29:26.558954Z"
    }
   },
   "cell_type": "code",
   "source": [
    "# re.findall — return all matches as strings/tuples\n",
    "# If the pattern has no capturing groups, you get a list of strings:\n",
    "expr_2 = 'sum = add(x, y)'\n",
    "re.findall(IDENT, expr_2)"
   ],
   "id": "ced2b39db9c64318",
   "outputs": [
    {
     "data": {
      "text/plain": [
       "['sum', 'add', 'x', 'y']"
      ]
     },
     "execution_count": 67,
     "metadata": {},
     "output_type": "execute_result"
    }
   ],
   "execution_count": 67
  },
  {
   "metadata": {
    "ExecuteTime": {
     "end_time": "2025-09-29T19:29:26.590480Z",
     "start_time": "2025-09-29T19:29:26.586838Z"
    }
   },
   "cell_type": "code",
   "source": [
    "# If the pattern has capturing groups, you get tuples of captured pieces:\n",
    "# capture left var, right int\n",
    "pattern_to_find = rf'({IDENT})\\s*=\\s*({INT})'\n",
    "expr_3 = 'a=1; b = 2; c = x'\n",
    "re.findall(pattern_to_find, expr_3)"
   ],
   "id": "87448f87dad9840b",
   "outputs": [
    {
     "data": {
      "text/plain": [
       "[('a', '1'), ('b', '2')]"
      ]
     },
     "execution_count": 68,
     "metadata": {},
     "output_type": "execute_result"
    }
   ],
   "execution_count": 68
  },
  {
   "metadata": {
    "ExecuteTime": {
     "end_time": "2025-09-29T19:29:26.609057Z",
     "start_time": "2025-09-29T19:29:26.606581Z"
    }
   },
   "cell_type": "code",
   "source": [
    "# if you only care about the whole match --> to remove () --> not a tuple anymore\n",
    "pattern_to_find_all = rf'{IDENT}\\s*=\\s*{INT}'\n",
    "re.findall(pattern_to_find_all, expr_3)"
   ],
   "id": "3e4796fb7a8352cf",
   "outputs": [
    {
     "data": {
      "text/plain": [
       "['a=1', 'b = 2']"
      ]
     },
     "execution_count": 69,
     "metadata": {},
     "output_type": "execute_result"
    }
   ],
   "execution_count": 69
  },
  {
   "metadata": {
    "ExecuteTime": {
     "end_time": "2025-09-29T19:29:26.628516Z",
     "start_time": "2025-09-29T19:29:26.626034Z"
    }
   },
   "cell_type": "code",
   "source": [
    "# re.finditer — like findall but yields Match objects\n",
    "# This is perfect for tokenization because you get positions and names.\n",
    "code = 'total = add(10, x)  # sum'\n",
    "group_objects = list(re.finditer(IDENT, code))\n",
    "for matched_object in group_objects:\n",
    "    print(matched_object.group(), matched_object.start(), matched_object.end())"
   ],
   "id": "979a1f4c71d2c264",
   "outputs": [
    {
     "name": "stdout",
     "output_type": "stream",
     "text": [
      "total 0 5\n",
      "add 8 11\n",
      "x 16 17\n",
      "sum 22 25\n"
     ]
    }
   ],
   "execution_count": 70
  },
  {
   "metadata": {
    "ExecuteTime": {
     "end_time": "2025-09-29T19:42:44.742703Z",
     "start_time": "2025-09-29T19:42:44.739612Z"
    }
   },
   "cell_type": "code",
   "source": [
    "# to return a tuple of the captured groups --> Pattern should have groups in ()\n",
    "pattern_with_groups = r'(?P<variable>[A-Za-z_]\\w*)'\n",
    "group_objects = list(re.finditer(pattern_with_groups, code))\n",
    "for matched_object in group_objects:\n",
    "    print(matched_object.groups())\n",
    "    print(matched_object.groupdict())  # named captures"
   ],
   "id": "8cf4371935eb4726",
   "outputs": [
    {
     "name": "stdout",
     "output_type": "stream",
     "text": [
      "('total',)\n",
      "{'variable': 'total'}\n",
      "('add',)\n",
      "{'variable': 'add'}\n",
      "('x',)\n",
      "{'variable': 'x'}\n",
      "('sum',)\n",
      "{'variable': 'sum'}\n"
     ]
    }
   ],
   "execution_count": 84
  },
  {
   "metadata": {
    "ExecuteTime": {
     "end_time": "2025-09-29T19:29:26.664293Z",
     "start_time": "2025-09-29T19:29:26.662875Z"
    }
   },
   "cell_type": "code",
   "source": "",
   "id": "e2c01bc72daa11f2",
   "outputs": [],
   "execution_count": null
  }
 ],
 "metadata": {
  "kernelspec": {
   "display_name": "Python 3",
   "language": "python",
   "name": "python3"
  },
  "language_info": {
   "codemirror_mode": {
    "name": "ipython",
    "version": 2
   },
   "file_extension": ".py",
   "mimetype": "text/x-python",
   "name": "python",
   "nbconvert_exporter": "python",
   "pygments_lexer": "ipython2",
   "version": "2.7.6"
  }
 },
 "nbformat": 4,
 "nbformat_minor": 5
}
