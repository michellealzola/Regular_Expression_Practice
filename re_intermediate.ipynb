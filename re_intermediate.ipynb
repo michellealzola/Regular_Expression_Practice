{
 "cells": [
  {
   "cell_type": "code",
   "id": "initial_id",
   "metadata": {
    "collapsed": true,
    "ExecuteTime": {
     "end_time": "2025-09-29T19:29:26.432157Z",
     "start_time": "2025-09-29T19:29:26.429365Z"
    }
   },
   "source": "import re",
   "outputs": [],
   "execution_count": 61
  },
  {
   "metadata": {
    "ExecuteTime": {
     "end_time": "2025-09-29T19:29:26.445124Z",
     "start_time": "2025-09-29T19:29:26.443350Z"
    }
   },
   "cell_type": "code",
   "source": [
    "# Patterns\n",
    "IDENT   = r\"[A-Za-z_]\\w*\"                 # variable / function names\n",
    "INT     = r\"\\d+\"                           # integer literal\n",
    "STRING  = r'\"[^\"\\\\]*(?:\\\\.[^\"\\\\]*)*\"'      # simple double-quoted string with escapes\n",
    "ASSIGN  = r\"=\"\n",
    "OP      = r\"[+\\-*/]\"\n",
    "LPAREN  = r\"\\(\"\n",
    "RPAREN  = r\"\\)\"\n",
    "COMMA   = r\",\"\n",
    "COMMENT = r\"#.*\"\n",
    "WS      = r\"[ \\t]+\""
   ],
   "id": "759ef9bda4566ea",
   "outputs": [],
   "execution_count": 62
  },
  {
   "metadata": {
    "ExecuteTime": {
     "end_time": "2025-09-29T19:29:26.460474Z",
     "start_time": "2025-09-29T19:29:26.457594Z"
    }
   },
   "cell_type": "code",
   "source": [
    "# re.match (match — must start at the beginning (but can be a prefix))\n",
    "# Use when you expect a token right at the start (e.g., lexing the next token).\n",
    "expr = 'count = 10'\n",
    "matched = re.match(IDENT, expr)\n",
    "matched.group()"
   ],
   "id": "1ed565e92f915ed4",
   "outputs": [
    {
     "data": {
      "text/plain": [
       "'count'"
      ]
     },
     "execution_count": 63,
     "metadata": {},
     "output_type": "execute_result"
    }
   ],
   "execution_count": 63
  },
  {
   "metadata": {
    "ExecuteTime": {
     "end_time": "2025-09-29T19:29:26.490884Z",
     "start_time": "2025-09-29T19:29:26.488045Z"
    }
   },
   "cell_type": "code",
   "source": [
    "# re.fullmatch - must match the entire string\n",
    "# Great for validating a whole line is exactly one kind of statement.\n",
    "pattern_to_match = rf'{IDENT}\\s*{ASSIGN}\\s*{INT}'\n",
    "re.fullmatch(pattern_to_match, expr) is not None"
   ],
   "id": "7fe502cfff30c9cc",
   "outputs": [
    {
     "data": {
      "text/plain": [
       "True"
      ]
     },
     "execution_count": 64,
     "metadata": {},
     "output_type": "execute_result"
    }
   ],
   "execution_count": 64
  },
  {
   "metadata": {
    "ExecuteTime": {
     "end_time": "2025-09-29T19:29:26.513787Z",
     "start_time": "2025-09-29T19:29:26.511033Z"
    }
   },
   "cell_type": "code",
   "source": [
    "expr_wrong = 'count = 10;'\n",
    "re.fullmatch(pattern_to_match, expr_wrong) is not None"
   ],
   "id": "d406458d7139e950",
   "outputs": [
    {
     "data": {
      "text/plain": [
       "False"
      ]
     },
     "execution_count": 65,
     "metadata": {},
     "output_type": "execute_result"
    }
   ],
   "execution_count": 65
  },
  {
   "metadata": {
    "ExecuteTime": {
     "end_time": "2025-09-29T19:29:26.542012Z",
     "start_time": "2025-09-29T19:29:26.538844Z"
    }
   },
   "cell_type": "code",
   "source": [
    "# re.search — find the first occurrence anywhere\n",
    "# Use when the token may appear anywhere (e.g., scan a comment string for a number).\n",
    "expr_1 = 'result = 42 + x'\n",
    "re.search(INT, expr_1).group()"
   ],
   "id": "9eb2207f576d88b",
   "outputs": [
    {
     "data": {
      "text/plain": [
       "'42'"
      ]
     },
     "execution_count": 66,
     "metadata": {},
     "output_type": "execute_result"
    }
   ],
   "execution_count": 66
  },
  {
   "metadata": {
    "ExecuteTime": {
     "end_time": "2025-09-29T19:29:26.562210Z",
     "start_time": "2025-09-29T19:29:26.558954Z"
    }
   },
   "cell_type": "code",
   "source": [
    "# re.findall — return all matches as strings/tuples\n",
    "# If the pattern has no capturing groups, you get a list of strings:\n",
    "expr_2 = 'sum = add(x, y)'\n",
    "re.findall(IDENT, expr_2)"
   ],
   "id": "ced2b39db9c64318",
   "outputs": [
    {
     "data": {
      "text/plain": [
       "['sum', 'add', 'x', 'y']"
      ]
     },
     "execution_count": 67,
     "metadata": {},
     "output_type": "execute_result"
    }
   ],
   "execution_count": 67
  },
  {
   "metadata": {
    "ExecuteTime": {
     "end_time": "2025-09-29T19:29:26.590480Z",
     "start_time": "2025-09-29T19:29:26.586838Z"
    }
   },
   "cell_type": "code",
   "source": [
    "# If the pattern has capturing groups, you get tuples of captured pieces:\n",
    "# capture left var, right int\n",
    "pattern_to_find = rf'({IDENT})\\s*=\\s*({INT})'\n",
    "expr_3 = 'a=1; b = 2; c = x'\n",
    "re.findall(pattern_to_find, expr_3)"
   ],
   "id": "87448f87dad9840b",
   "outputs": [
    {
     "data": {
      "text/plain": [
       "[('a', '1'), ('b', '2')]"
      ]
     },
     "execution_count": 68,
     "metadata": {},
     "output_type": "execute_result"
    }
   ],
   "execution_count": 68
  },
  {
   "metadata": {
    "ExecuteTime": {
     "end_time": "2025-09-29T19:29:26.609057Z",
     "start_time": "2025-09-29T19:29:26.606581Z"
    }
   },
   "cell_type": "code",
   "source": [
    "# if you only care about the whole match --> to remove () --> not a tuple anymore\n",
    "pattern_to_find_all = rf'{IDENT}\\s*=\\s*{INT}'\n",
    "re.findall(pattern_to_find_all, expr_3)"
   ],
   "id": "3e4796fb7a8352cf",
   "outputs": [
    {
     "data": {
      "text/plain": [
       "['a=1', 'b = 2']"
      ]
     },
     "execution_count": 69,
     "metadata": {},
     "output_type": "execute_result"
    }
   ],
   "execution_count": 69
  },
  {
   "metadata": {
    "ExecuteTime": {
     "end_time": "2025-09-29T19:29:26.628516Z",
     "start_time": "2025-09-29T19:29:26.626034Z"
    }
   },
   "cell_type": "code",
   "source": [
    "# re.finditer — like findall but yields Match objects\n",
    "# This is perfect for tokenization because you get positions and names.\n",
    "code = 'total = add(10, x)  # sum'\n",
    "group_objects = list(re.finditer(IDENT, code))\n",
    "for matched_object in group_objects:\n",
    "    print(matched_object.group(), matched_object.start(), matched_object.end())"
   ],
   "id": "979a1f4c71d2c264",
   "outputs": [
    {
     "name": "stdout",
     "output_type": "stream",
     "text": [
      "total 0 5\n",
      "add 8 11\n",
      "x 16 17\n",
      "sum 22 25\n"
     ]
    }
   ],
   "execution_count": 70
  },
  {
   "metadata": {
    "ExecuteTime": {
     "end_time": "2025-09-29T19:42:44.742703Z",
     "start_time": "2025-09-29T19:42:44.739612Z"
    }
   },
   "cell_type": "code",
   "source": [
    "# to return a tuple of the captured groups --> Pattern should have groups in ()\n",
    "pattern_with_groups = r'(?P<variable>[A-Za-z_]\\w*)'\n",
    "group_objects = list(re.finditer(pattern_with_groups, code))\n",
    "for matched_object in group_objects:\n",
    "    print(matched_object.groups())\n",
    "    print(matched_object.groupdict())  # named captures"
   ],
   "id": "8cf4371935eb4726",
   "outputs": [
    {
     "name": "stdout",
     "output_type": "stream",
     "text": [
      "('total',)\n",
      "{'variable': 'total'}\n",
      "('add',)\n",
      "{'variable': 'add'}\n",
      "('x',)\n",
      "{'variable': 'x'}\n",
      "('sum',)\n",
      "{'variable': 'sum'}\n"
     ]
    }
   ],
   "execution_count": 84
  },
  {
   "metadata": {
    "ExecuteTime": {
     "end_time": "2025-09-29T20:43:55.058303Z",
     "start_time": "2025-09-29T20:43:55.053921Z"
    }
   },
   "cell_type": "code",
   "source": [
    "# re.sub and re.subn — rewrite code\n",
    "# Rename identifiers\n",
    "pattern_to_sub = rf'\\b{IDENT}\\b'\n",
    "replacement = lambda m: 'bar' if m.group() == 'foo' else m.group()\n",
    "code = 'foo=1; foo+2'\n",
    "re.sub(pattern_to_sub, replacement, code)"
   ],
   "id": "e2c01bc72daa11f2",
   "outputs": [
    {
     "data": {
      "text/plain": [
       "'bar=1; bar+2'"
      ]
     },
     "execution_count": 85,
     "metadata": {},
     "output_type": "execute_result"
    }
   ],
   "execution_count": 85
  },
  {
   "metadata": {
    "ExecuteTime": {
     "end_time": "2025-09-29T20:47:39.684211Z",
     "start_time": "2025-09-29T20:47:39.680468Z"
    }
   },
   "cell_type": "code",
   "source": [
    "# Reformat function calls into a different syntax\n",
    "call = rf'(?P<fn>{IDENT})\\s*\\(\\s*(?P<args>[^)]*)\\)'\n",
    "code = 'sum(a, b)'\n",
    "re.sub(call, r'\\g<fn>[ \\g<args>]', code)"
   ],
   "id": "561cf4e762b17d29",
   "outputs": [
    {
     "data": {
      "text/plain": [
       "'sum[ a, b]'"
      ]
     },
     "execution_count": 86,
     "metadata": {},
     "output_type": "execute_result"
    }
   ],
   "execution_count": 86
  },
  {
   "metadata": {
    "ExecuteTime": {
     "end_time": "2025-09-29T20:49:17.245449Z",
     "start_time": "2025-09-29T20:49:17.240941Z"
    }
   },
   "cell_type": "code",
   "source": [
    "# subn also returns the number of replacements\n",
    "code = 'x=1+2+300'\n",
    "re.subn(INT, 'NUM', code)"
   ],
   "id": "7ff065a70467a97c",
   "outputs": [
    {
     "data": {
      "text/plain": [
       "('x=NUM+NUM+NUM', 3)"
      ]
     },
     "execution_count": 87,
     "metadata": {},
     "output_type": "execute_result"
    }
   ],
   "execution_count": 87
  },
  {
   "metadata": {
    "ExecuteTime": {
     "end_time": "2025-09-29T20:51:33.216185Z",
     "start_time": "2025-09-29T20:51:33.212301Z"
    }
   },
   "cell_type": "code",
   "source": [
    "# re.split — split by token delimiters\n",
    "abc = 'a, b, c'\n",
    "pattern_to_split = rf'\\s*{COMMA}\\s*'\n",
    "re.split(pattern_to_split, abc)"
   ],
   "id": "f1ab4ffb85674a22",
   "outputs": [
    {
     "data": {
      "text/plain": [
       "['a', 'b', 'c']"
      ]
     },
     "execution_count": 89,
     "metadata": {},
     "output_type": "execute_result"
    }
   ],
   "execution_count": 89
  },
  {
   "metadata": {
    "ExecuteTime": {
     "end_time": "2025-09-29T20:57:01.045207Z",
     "start_time": "2025-09-29T20:57:01.040907Z"
    }
   },
   "cell_type": "code",
   "source": [
    "# re.compile — pre-compile for speed & reuse\n",
    "ASSIGN_STMT = re.compile(rf\"^(?P<lhs>{IDENT})\\s*=\\s*(?P<rhs>{IDENT}|{INT}|{STRING})$\")\n",
    "m = ASSIGN_STMT.fullmatch('msg = \"hello\"')\n",
    "m.groupdict()"
   ],
   "id": "d5d569b0b9c8e4e7",
   "outputs": [
    {
     "data": {
      "text/plain": [
       "{'lhs': 'msg', 'rhs': '\"hello\"'}"
      ]
     },
     "execution_count": 90,
     "metadata": {},
     "output_type": "execute_result"
    }
   ],
   "execution_count": 90
  },
  {
   "metadata": {
    "ExecuteTime": {
     "end_time": "2025-09-29T21:01:29.280592Z",
     "start_time": "2025-09-29T21:01:29.276005Z"
    }
   },
   "cell_type": "code",
   "source": [
    "# Useful flags\n",
    "# re.IGNORECASE (re.I) — case-insensitive identifiers (if your language allows)\n",
    "# re.MULTILINE (re.M) — ^ and $ match line starts/ends within a block\n",
    "# re.DOTALL (re.S) — . matches newlines (helpful in string/comment blocks)\n",
    "code = '# a\\nx=1\\n# b'\n",
    "pattern_to_match = r'^\\s*#.*$'\n",
    "flags = re.M\n",
    "re.findall(pattern_to_match, code, flags)"
   ],
   "id": "a192cbbb051a2939",
   "outputs": [
    {
     "data": {
      "text/plain": [
       "['# a', '# b']"
      ]
     },
     "execution_count": 91,
     "metadata": {},
     "output_type": "execute_result"
    }
   ],
   "execution_count": 91
  },
  {
   "metadata": {},
   "cell_type": "markdown",
   "source": [
    "## Mini Tasks with Solutions\n",
    "#### A. Validate a Simple Assignment"
   ],
   "id": "135a88d4a80c86f6"
  },
  {
   "metadata": {
    "ExecuteTime": {
     "end_time": "2025-09-29T21:06:04.680392Z",
     "start_time": "2025-09-29T21:06:04.677461Z"
    }
   },
   "cell_type": "code",
   "source": [
    "ASSIGN_STMT = rf\"^(?P<lhs>{IDENT})\\s*=\\s*(?P<rhs>{STRING}|{INT}|{IDENT})$\"\n",
    "\n",
    "tests = [\n",
    "    \"x=10\",\n",
    "    'title = \"Report\"',\n",
    "    \"a = b\",\n",
    "    \"1x = 5\",\n",
    "    \"name = 'oops'\"\n",
    "]\n",
    "\n",
    "for t in tests:\n",
    "    print(t, bool(re.fullmatch(ASSIGN_STMT, t)))"
   ],
   "id": "1c04e1bc8eb3ec9a",
   "outputs": [
    {
     "name": "stdout",
     "output_type": "stream",
     "text": [
      "x=10 True\n",
      "title = \"Report\" True\n",
      "a = b True\n",
      "1x = 5 False\n",
      "name = 'oops' False\n"
     ]
    }
   ],
   "execution_count": 92
  },
  {
   "metadata": {},
   "cell_type": "markdown",
   "source": "#### B. Find all function calls and their argument lists",
   "id": "74b0fc21fdfcd470"
  },
  {
   "metadata": {
    "ExecuteTime": {
     "end_time": "2025-09-29T21:14:31.470255Z",
     "start_time": "2025-09-29T21:14:31.467340Z"
    }
   },
   "cell_type": "code",
   "source": [
    "CALL = rf\"(?P<fn>{IDENT})\\s*\\(\\s*(?P<args>[^)]*)\\)\"\n",
    "code = 'print(\"ok\"); add(1,2); f ( x , y )'\n",
    "for mo in re.finditer(CALL, code):\n",
    "    print(mo.group('fn'), \"->\", [a.strip() for a in re.split(rf\"\\s*{COMMA}\\s*\", mo.group('args')) if a.strip()])"
   ],
   "id": "d877d818349a6f6",
   "outputs": [
    {
     "name": "stdout",
     "output_type": "stream",
     "text": [
      "print -> ['\"ok\"']\n",
      "add -> ['1', '2']\n",
      "f -> ['x', 'y']\n"
     ]
    }
   ],
   "execution_count": 95
  },
  {
   "metadata": {},
   "cell_type": "markdown",
   "source": "#### C. Strip comments (but keep strings intact)",
   "id": "9d0002499470153"
  },
  {
   "metadata": {
    "ExecuteTime": {
     "end_time": "2025-09-29T21:15:22.872486Z",
     "start_time": "2025-09-29T21:15:22.864628Z"
    }
   },
   "cell_type": "code",
   "source": [
    "LINE = rf'{STRING}|{COMMENT}'\n",
    "def strip_comment(line: str) -> str:\n",
    "    out = []\n",
    "    idx = 0\n",
    "    for mo in re.finditer(LINE, line):\n",
    "        if mo.group().startswith(\"#\"):\n",
    "            # keep everything before the comment, then stop\n",
    "            return line[:mo.start()].rstrip()\n",
    "        else:\n",
    "            # it's a STRING, skip over it\n",
    "            idx = mo.end()\n",
    "    return line.rstrip()\n",
    "\n",
    "strip_comment('msg = \"# not a comment\"  # real comment')\n"
   ],
   "id": "91c0e4a8a567de22",
   "outputs": [
    {
     "data": {
      "text/plain": [
       "'msg = \"# not a comment\"'"
      ]
     },
     "execution_count": 96,
     "metadata": {},
     "output_type": "execute_result"
    }
   ],
   "execution_count": 96
  },
  {
   "metadata": {},
   "cell_type": "markdown",
   "source": "#### D. Rename a variable safely using word boundaries",
   "id": "88ec95ae193e1672"
  },
  {
   "metadata": {
    "ExecuteTime": {
     "end_time": "2025-09-29T21:20:15.695447Z",
     "start_time": "2025-09-29T21:20:15.690141Z"
    }
   },
   "cell_type": "code",
   "source": [
    "def rename_var(src: str, old: str, new: str) -> str:\n",
    "    pat = rf\"\\b{re.escape(old)}\\b\"\n",
    "    print(pat)\n",
    "    return re.sub(pat, new, src)\n",
    "\n",
    "rename_var(\"foo=1; foobar=2; foo + bar\", \"foo\", \"n\")\n"
   ],
   "id": "2a685f5b78a7beeb",
   "outputs": [
    {
     "name": "stdout",
     "output_type": "stream",
     "text": [
      "\\bfoo\\b\n"
     ]
    },
    {
     "data": {
      "text/plain": [
       "'n=1; foobar=2; n + bar'"
      ]
     },
     "execution_count": 98,
     "metadata": {},
     "output_type": "execute_result"
    }
   ],
   "execution_count": 98
  },
  {
   "metadata": {},
   "cell_type": "markdown",
   "source": "#### E. Extract all identifiers not in comments/strings",
   "id": "5376add3087a73f"
  },
  {
   "metadata": {
    "ExecuteTime": {
     "end_time": "2025-09-29T21:21:34.746330Z",
     "start_time": "2025-09-29T21:21:34.742326Z"
    }
   },
   "cell_type": "code",
   "source": [
    "TOKEN = rf\"{STRING}|{COMMENT}|{IDENT}\"\n",
    "def ids_no_strings_comments(code: str):\n",
    "    ids = []\n",
    "    for mo in re.finditer(TOKEN, code):\n",
    "        tk = mo.group()\n",
    "        if tk.startswith(\"#\") or tk.startswith('\"'):\n",
    "            continue\n",
    "        ids.append(tk)\n",
    "    return ids\n",
    "\n",
    "ids_no_strings_comments('print(\"x # y\"); # comment\\nvalue=10')"
   ],
   "id": "4fcfea106a5b1eaa",
   "outputs": [
    {
     "data": {
      "text/plain": [
       "['print', 'value']"
      ]
     },
     "execution_count": 99,
     "metadata": {},
     "output_type": "execute_result"
    }
   ],
   "execution_count": 99
  },
  {
   "metadata": {},
   "cell_type": "code",
   "outputs": [],
   "execution_count": null,
   "source": [
    "'''\n",
    "Quick “when to use what” cheat-sheet\n",
    "\n",
    "Method\t                Best for\t                                    Returns\n",
    "match\t                token at start of string\t                    Match or None\n",
    "fullmatch\t            validate whole string equals a rule\t            Match or None\n",
    "search\t                first occurrence anywhere\t                    Match or None\n",
    "findall\t                all occurrences (text or tuples if groups)\t    list\n",
    "finditer\t            all occurrences with positions & groups\t        iterator of Match\n",
    "sub\t                    rewrite strings (rename, reformat)\t            new string\n",
    "subn\t                like sub + count\t                            (new_string, count)\n",
    "split\t                split on token delimiters\t                    list\n",
    "compile\t                precompile pattern (speed, named groups, reuse)\tPattern object\n",
    "10) Small practice set (answers below)\n",
    "\n",
    "Validate lines that are only an identifier:\n",
    "\n",
    "_ok, _1, a9    |    9a, -x, \"\"\n",
    "\n",
    "\n",
    "Find all assignments and return (lhs, rhs) pairs from:\n",
    "\n",
    "x=1; y = x; title=\"Hi\"; bad = 'nope'\n",
    "\n",
    "\n",
    "Extract function names from calls:\n",
    "\n",
    "print(\"a\"); add(1,2); _mix42 ( x )\n",
    "\n",
    "\n",
    "Replace foo with bar only when it’s a standalone identifier in:\n",
    "\n",
    "foo=1; foobar=2; foo_x=3; foo + 4\n",
    "\n",
    "\n",
    "Strip trailing comments but keep # inside strings:\n",
    "\n",
    "'a#b'  # comment\n",
    "\n",
    "Answer key (sketch)\n",
    "\n",
    "re.fullmatch(IDENT, s) → True for _ok, _1, a9; False for 9a, -x, \"\".\n",
    "\n",
    "re.findall(rf\"({IDENT})\\s*=\\s*({STRING}|{INT}|{IDENT})\", src)\n",
    "→ [('x','1'), ('y','x'), ('title','\"Hi\"')]\n",
    "\n",
    "re.findall(rf\"{IDENT}\\s*\\(\", src) and strip (, or better named:\n",
    "\n",
    "[mo.group('fn') for mo in re.finditer(rf\"(?P<fn>{IDENT})\\s*\\(\", src)]\n",
    "# ['print','add','_mix42']\n",
    "\n",
    "\n",
    "re.sub(r\"\\bfoo\\b\", \"bar\", src) → bar=1; foobar=2; foo_x=3; bar + 4\n",
    "\n",
    "Function strip_comment above → result: '\\'a#b\\''\n",
    "'''"
   ],
   "id": "b4d2e371d022a375"
  }
 ],
 "metadata": {
  "kernelspec": {
   "display_name": "Python 3",
   "language": "python",
   "name": "python3"
  },
  "language_info": {
   "codemirror_mode": {
    "name": "ipython",
    "version": 2
   },
   "file_extension": ".py",
   "mimetype": "text/x-python",
   "name": "python",
   "nbconvert_exporter": "python",
   "pygments_lexer": "ipython2",
   "version": "2.7.6"
  }
 },
 "nbformat": 4,
 "nbformat_minor": 5
}
